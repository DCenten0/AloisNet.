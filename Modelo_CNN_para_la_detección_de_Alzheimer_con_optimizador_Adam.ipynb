{
  "cells": [
    {
      "cell_type": "markdown",
      "source": [
        "#Transfer learning to create AloisNet CNN\n",
        "\n",
        "AloisNet is CNN model able to detect 4 levels of Alzheimer dementia of a patient \"Very midl demented\", \"Mild Demented\", \"Moderated Demented\" and \"Non Demented\". So \"AloisNet\" constant with 4 output neurons. \n",
        "\n",
        "The present notebook was created by two students:\n",
        "\n",
        "* Daniel José Centeno González\n",
        "* Arnoldo Javier Trujillo Robelo\n",
        "\n",
        "From \"La Salle Technological University\", León, Nicaragua.\n",
        "\n",
        "In this notebook you can found all the process that we did to train \"AloisNet\""
      ],
      "metadata": {
        "id": "D-pWCtRTDfi4"
      }
    },
    {
      "cell_type": "code",
      "execution_count": null,
      "metadata": {
        "id": "pLVyZF-ldnV7"
      },
      "outputs": [],
      "source": [
        "#Import all the libreries used\n",
        "from tensorflow.keras.layers import InputLayer, BatchNormalization, Dropout, Flatten, Dense, Activation, MaxPool2D, Conv2D\n",
        "from tensorflow.keras.preprocessing.image import load_img, img_to_array\n",
        "from tensorflow.keras.callbacks import EarlyStopping, ModelCheckpoint\n",
        "from tensorflow.keras.applications.densenet import DenseNet169\n",
        "from keras.applications.mobilenet import preprocess_input\n",
        "from keras.preprocessing.image import ImageDataGenerator\n",
        "from keras.layers import Dense,GlobalAveragePooling2D\n",
        "from tensorflow.keras.applications import MobileNet\n",
        "from keras.metrics import categorical_crossentropy\n",
        "from keras.layers.core import Dense, Activation\n",
        "from tensorflow.keras.models import Sequential\n",
        "from keras.applications import imagenet_utils\n",
        "from tensorflow.keras.optimizers import Adam \n",
        "from keras.preprocessing import image\n",
        "from skimage.io import imread, imshow\n",
        "from skimage.transform import resize\n",
        "from skimage.color import grey2rgb\n",
        "import tensorflow_datasets as tfds\n",
        "from IPython.display import Image\n",
        "from sklearn.utils import shuffle\n",
        "from keras import backend as K\n",
        "from keras.models import Model\n",
        "import matplotlib.pylab as plt\n",
        "import tensorflow_hub as hub\n",
        "import tensorflow as tf\n",
        "from io import BytesIO\n",
        "from tqdm import tqdm\n",
        "from PIL import Image\n",
        "import pandas as pd\n",
        "import numpy as np\n",
        "import skimage.io\n",
        "import requests\n",
        "import keras\n",
        "import glob\n",
        "import cv2\n",
        "import os "
      ]
    },
    {
      "cell_type": "code",
      "execution_count": null,
      "metadata": {
        "colab": {
          "base_uri": "https://localhost:8080/"
        },
        "id": "-2qL8101doSk",
        "outputId": "4ca987f5-df79-4ec1-a153-fef36a4aba73"
      },
      "outputs": [
        {
          "output_type": "stream",
          "name": "stdout",
          "text": [
            "Mounted at /content/drive\n"
          ]
        }
      ],
      "source": [
        "#Conect with google drive where is the dataset\n",
        "from google.colab import drive\n",
        "drive.mount('/content/drive')"
      ]
    },
    {
      "cell_type": "code",
      "execution_count": null,
      "metadata": {
        "id": "SA1x-3SKetfV"
      },
      "outputs": [],
      "source": [
        "#Data augmentation, create a dataset generador\n",
        "datagen = ImageDataGenerator(rescale = 1./255,\n",
        "                                   rotation_range=30,\n",
        "                                   zoom_range=0.2,\n",
        "                                   horizontal_flip=True,\n",
        "                                   vertical_flip=True,)"
      ]
    },
    {
      "cell_type": "code",
      "execution_count": null,
      "metadata": {
        "colab": {
          "base_uri": "https://localhost:8080/"
        },
        "id": "Z37FBZiCe2Iz",
        "outputId": "0e991452-04cc-4b7c-dbd9-789ddade7a0d"
      },
      "outputs": [
        {
          "output_type": "stream",
          "name": "stdout",
          "text": [
            "Found 5121 images belonging to 4 classes.\n"
          ]
        }
      ],
      "source": [
        "#Generator of training set with a size of 224x224\n",
        "train_generator=datagen.flow_from_directory('/content/drive/MyDrive/Paper_V2/Alzheimer/train',\n",
        "                                                 target_size = (224,224),\n",
        "                                                  class_mode = 'categorical',\n",
        "                                                  subset = 'training',\n",
        "                                                  batch_size = 128)"
      ]
    },
    {
      "cell_type": "code",
      "execution_count": null,
      "metadata": {
        "colab": {
          "base_uri": "https://localhost:8080/"
        },
        "id": "J6ZUEYYIe4Zk",
        "outputId": "7d6bcd1b-2966-47b2-af86-3ba705fb09ad"
      },
      "outputs": [
        {
          "output_type": "stream",
          "name": "stdout",
          "text": [
            "Found 1279 images belonging to 4 classes.\n"
          ]
        }
      ],
      "source": [
        "#Generator of test set with a size of 224x224\n",
        "test_generator = datagen.flow_from_directory('/content/drive/MyDrive/Paper_V2/Alzheimer/test',\n",
        "                                            target_size = (224,224),\n",
        "                                            class_mode = 'categorical',\n",
        "                                            batch_size = 128)"
      ]
    },
    {
      "cell_type": "code",
      "execution_count": null,
      "metadata": {
        "colab": {
          "base_uri": "https://localhost:8080/",
          "height": 211
        },
        "id": "CoV-KL_Ee7-W",
        "outputId": "82770953-f096-4a92-effb-ad3cd9e3fb6d"
      },
      "outputs": [
        {
          "output_type": "display_data",
          "data": {
            "text/plain": [
              "<Figure size 432x288 with 10 Axes>"
            ],
            "image/png": "[encoded data removed]"
          },
          "metadata": {}
        }
      ],
      "source": [
        "#Print 10 imagenes with the augmentation of data \n",
        "\n",
        "for imagen, etiqueta in train_generator:\n",
        "  for i in range(10):\n",
        "    plt.subplot(2,5,i+1)\n",
        "    plt.xticks([])\n",
        "    plt.yticks([])\n",
        "    plt.imshow(imagen[i])\n",
        "  break\n",
        "plt.show()"
      ]
    },
    {
      "cell_type": "code",
      "execution_count": null,
      "metadata": {
        "colab": {
          "base_uri": "https://localhost:8080/"
        },
        "id": "ooV9VrBa7VWl",
        "outputId": "005bf39a-551e-4ea9-bb0b-4025af388fd2"
      },
      "outputs": [
        {
          "output_type": "stream",
          "name": "stdout",
          "text": [
            "Downloading data from https://storage.googleapis.com/tensorflow/keras-applications/densenet/densenet169_weights_tf_dim_ordering_tf_kernels_notop.h5\n",
            "51879936/51877672 [==============================] - 0s 0us/step\n",
            "51888128/51877672 [==============================] - 0s 0us/step\n"
          ]
        }
      ],
      "source": [
        "# Model Initialization\n",
        "\n",
        "base_model = DenseNet169(input_shape=(224,224,3), \n",
        "                         include_top=False,\n",
        "                         weights=\"imagenet\")"
      ]
    },
    {
      "cell_type": "code",
      "execution_count": null,
      "metadata": {
        "id": "WL7_yCgc9wkp"
      },
      "outputs": [],
      "source": [
        "# Freezing Layers\n",
        "for layer in base_model.layers:\n",
        "    layer.trainable=False"
      ]
    },
    {
      "cell_type": "code",
      "execution_count": null,
      "metadata": {
        "id": "h_U-MOlw7mJX"
      },
      "outputs": [],
      "source": [
        "# Building Model\n",
        "model=Sequential()\n",
        "model.add(base_model)\n",
        "model.add(Dropout(0.5))\n",
        "model.add(Flatten())\n",
        "model.add(BatchNormalization())\n",
        "model.add(Dense(2048,kernel_initializer='he_uniform'))\n",
        "model.add(BatchNormalization())\n",
        "model.add(Activation('relu'))\n",
        "model.add(Dropout(0.5))\n",
        "model.add(Dense(1024,kernel_initializer='he_uniform'))\n",
        "model.add(BatchNormalization())\n",
        "model.add(Activation('relu'))\n",
        "model.add(Dropout(0.5))\n",
        "model.add(Dense(4,activation='softmax'))"
      ]
    },
    {
      "cell_type": "code",
      "execution_count": null,
      "metadata": {
        "colab": {
          "base_uri": "https://localhost:8080/"
        },
        "id": "bP7pOjXZ7sOJ",
        "outputId": "d926ab29-2cb1-4041-d15e-48bbb9b3ea85"
      },
      "outputs": [
        {
          "output_type": "stream",
          "name": "stdout",
          "text": [
            "Model: \"sequential\"\n",
            "_________________________________________________________________\n",
            " Layer (type)                Output Shape              Param #   \n",
            "=================================================================\n",
            " densenet169 (Functional)    (None, 7, 7, 1664)        12642880  \n",
            "                                                                 \n",
            " dropout (Dropout)           (None, 7, 7, 1664)        0         \n",
            "                                                                 \n",
            " flatten (Flatten)           (None, 81536)             0         \n",
            "                                                                 \n",
            " batch_normalization (BatchN  (None, 81536)            326144    \n",
            " ormalization)                                                   \n",
            "                                                                 \n",
            " dense (Dense)               (None, 2048)              166987776 \n",
            "                                                                 \n",
            " batch_normalization_1 (Batc  (None, 2048)             8192      \n",
            " hNormalization)                                                 \n",
            "                                                                 \n",
            " activation (Activation)     (None, 2048)              0         \n",
            "                                                                 \n",
            " dropout_1 (Dropout)         (None, 2048)              0         \n",
            "                                                                 \n",
            " dense_1 (Dense)             (None, 1024)              2098176   \n",
            "                                                                 \n",
            " batch_normalization_2 (Batc  (None, 1024)             4096      \n",
            " hNormalization)                                                 \n",
            "                                                                 \n",
            " activation_1 (Activation)   (None, 1024)              0         \n",
            "                                                                 \n",
            " dropout_2 (Dropout)         (None, 1024)              0         \n",
            "                                                                 \n",
            " dense_2 (Dense)             (None, 4)                 4100      \n",
            "                                                                 \n",
            "=================================================================\n",
            "Total params: 182,071,364\n",
            "Trainable params: 169,259,268\n",
            "Non-trainable params: 12,812,096\n",
            "_________________________________________________________________\n"
          ]
        }
      ],
      "source": [
        "# Summary of the model\n",
        "model.summary()"
      ]
    },
    {
      "cell_type": "code",
      "source": [
        "# Model Compile \n",
        "OPT    = tensorflow.keras.optimizers.Adam(learning_rate=0.001)\n",
        "model.compile(loss='categorical_crossentropy',metrics=['accuracy'],\n",
        "              optimizer=OPT)"
      ],
      "metadata": {
        "id": "-FSMjq7lAlGq"
      },
      "execution_count": null,
      "outputs": []
    },
    {
      "cell_type": "code",
      "execution_count": null,
      "metadata": {
        "id": "nHbznVg78GUb"
      },
      "outputs": [],
      "source": [
        "# Defining Callbacks\n",
        "\n",
        "filepath = './best_weights.hdf5'\n",
        "\n",
        "earlystopping = EarlyStopping(monitor = 'val_auc', \n",
        "                              mode = 'max' , \n",
        "                              patience = 15,\n",
        "                              verbose = 1)\n",
        "\n",
        "checkpoint    = ModelCheckpoint(filepath, \n",
        "                                monitor = 'val_auc', \n",
        "                                mode='max', \n",
        "                                save_best_only=True, \n",
        "                                verbose = 1)\n",
        "\n",
        "\n",
        "callback_list = [earlystopping, checkpoint]"
      ]
    },
    {
      "cell_type": "code",
      "execution_count": null,
      "metadata": {
        "colab": {
          "base_uri": "https://localhost:8080/"
        },
        "id": "FnDwGzXn8Hpi",
        "outputId": "97522336-69ff-4873-ec4d-3e417c757fe5"
      },
      "outputs": [
        {
          "output_type": "stream",
          "name": "stdout",
          "text": [
            "Epoch 1/10\n",
            "41/41 [==============================] - ETA: 0s - loss: 1.3229 - auc: 0.7881 \n",
            "Epoch 1: val_auc improved from -inf to 0.79584, saving model to ./best_weights.hdf5\n",
            "41/41 [==============================] - 1086s 26s/step - loss: 1.3229 - auc: 0.7881 - val_loss: 2.3135 - val_auc: 0.7958\n",
            "Epoch 2/10\n",
            "41/41 [==============================] - ETA: 0s - loss: 1.0672 - auc: 0.8302\n",
            "Epoch 2: val_auc improved from 0.79584 to 0.79651, saving model to ./best_weights.hdf5\n",
            "41/41 [==============================] - 93s 2s/step - loss: 1.0672 - auc: 0.8302 - val_loss: 1.5877 - val_auc: 0.7965\n",
            "Epoch 3/10\n",
            "41/41 [==============================] - ETA: 0s - loss: 0.9807 - auc: 0.8437\n",
            "Epoch 3: val_auc improved from 0.79651 to 0.84446, saving model to ./best_weights.hdf5\n",
            "41/41 [==============================] - 93s 2s/step - loss: 0.9807 - auc: 0.8437 - val_loss: 0.9691 - val_auc: 0.8445\n",
            "Epoch 4/10\n",
            "41/41 [==============================] - ETA: 0s - loss: 0.9087 - auc: 0.8583\n",
            "Epoch 4: val_auc improved from 0.84446 to 0.84478, saving model to ./best_weights.hdf5\n",
            "41/41 [==============================] - 94s 2s/step - loss: 0.9087 - auc: 0.8583 - val_loss: 0.9903 - val_auc: 0.8448\n",
            "Epoch 5/10\n",
            "41/41 [==============================] - ETA: 0s - loss: 0.8573 - auc: 0.8706\n",
            "Epoch 5: val_auc improved from 0.84478 to 0.85258, saving model to ./best_weights.hdf5\n",
            "41/41 [==============================] - 92s 2s/step - loss: 0.8573 - auc: 0.8706 - val_loss: 0.9511 - val_auc: 0.8526\n",
            "Epoch 6/10\n",
            "41/41 [==============================] - ETA: 0s - loss: 0.8076 - auc: 0.8814\n",
            "Epoch 6: val_auc did not improve from 0.85258\n",
            "41/41 [==============================] - 83s 2s/step - loss: 0.8076 - auc: 0.8814 - val_loss: 0.9532 - val_auc: 0.8357\n",
            "Epoch 7/10\n",
            "41/41 [==============================] - ETA: 0s - loss: 0.7886 - auc: 0.8863\n",
            "Epoch 7: val_auc improved from 0.85258 to 0.86059, saving model to ./best_weights.hdf5\n",
            "41/41 [==============================] - 94s 2s/step - loss: 0.7886 - auc: 0.8863 - val_loss: 0.8750 - val_auc: 0.8606\n",
            "Epoch 8/10\n",
            "41/41 [==============================] - ETA: 0s - loss: 0.7655 - auc: 0.8921\n",
            "Epoch 8: val_auc improved from 0.86059 to 0.86419, saving model to ./best_weights.hdf5\n",
            "41/41 [==============================] - 92s 2s/step - loss: 0.7655 - auc: 0.8921 - val_loss: 0.8516 - val_auc: 0.8642\n",
            "Epoch 9/10\n",
            "41/41 [==============================] - ETA: 0s - loss: 0.7368 - auc: 0.8993\n",
            "Epoch 9: val_auc did not improve from 0.86419\n",
            "41/41 [==============================] - 82s 2s/step - loss: 0.7368 - auc: 0.8993 - val_loss: 0.8996 - val_auc: 0.8560\n",
            "Epoch 10/10\n",
            "41/41 [==============================] - ETA: 0s - loss: 0.7132 - auc: 0.9056\n",
            "Epoch 10: val_auc did not improve from 0.86419\n",
            "41/41 [==============================] - 83s 2s/step - loss: 0.7132 - auc: 0.9056 - val_loss: 0.9387 - val_auc: 0.8602\n"
          ]
        }
      ],
      "source": [
        "History = model.fit(train_generator,\n",
        "                        validation_data=test_generator,\n",
        "                        epochs = 10,\n",
        "                        callbacks = callback_list,\n",
        "                        verbose = 1)"
      ]
    },
    {
      "cell_type": "code",
      "source": [
        "# Summarize history for loss\n",
        "\n",
        "plt.plot(History.history['auc'])\n",
        "plt.plot(History.history['val_auc'])\n",
        "plt.title('Model AUC')\n",
        "plt.ylabel('AUC')\n",
        "plt.xlabel('Epoch')\n",
        "plt.legend(['Train', 'Validation'], loc='upper left', bbox_to_anchor=(1,1))\n",
        "plt.show()\n"
      ],
      "metadata": {
        "colab": {
          "base_uri": "https://localhost:8080/",
          "height": 295
        },
        "id": "Z7O-qQ99W5KL",
        "outputId": "9baf180b-41ef-4d63-f58b-a6f2d331406c"
      },
      "execution_count": null,
      "outputs": [
        {
          "output_type": "display_data",
          "data": {
            "text/plain": [
              "<Figure size 432x288 with 1 Axes>"
            ],
            "image/png": "[encoded data removed]"
          },
          "metadata": {
            "needs_background": "light"
          }
        }
      ]
    },
    {
      "cell_type": "code",
      "source": [
        "# Summarize history for loss\n",
        "\n",
        "plt.plot(History.history['loss'])\n",
        "plt.plot(History.history['val_loss'])\n",
        "plt.title('Model Loss')\n",
        "plt.ylabel('Loss')\n",
        "plt.xlabel('Epoch')\n",
        "plt.legend(['Train', 'Validation'], loc='upper left', bbox_to_anchor=(1,1))\n",
        "plt.show()"
      ],
      "metadata": {
        "colab": {
          "base_uri": "https://localhost:8080/",
          "height": 295
        },
        "id": "jmwA4UDyW_4x",
        "outputId": "6662f987-3baf-4d2c-8f15-1dc0d9ef78fe"
      },
      "execution_count": null,
      "outputs": [
        {
          "output_type": "display_data",
          "data": {
            "text/plain": [
              "<Figure size 432x288 with 1 Axes>"
            ],
            "image/png": "[encoded data removed]"
          },
          "metadata": {
            "needs_background": "light"
          }
        }
      ]
    },
    {
      "cell_type": "code",
      "execution_count": null,
      "metadata": {
        "id": "AsDid9M-k5_9"
      },
      "outputs": [],
      "source": [
        "#Save model\n",
        "model.save('AlzheimerCNN.h5')"
      ]
    },
    {
      "cell_type": "code",
      "execution_count": null,
      "metadata": {
        "colab": {
          "base_uri": "https://localhost:8080/",
          "height": 1000
        },
        "id": "80PgrfRGlCzc",
        "outputId": "995e8fd2-0ce1-4d4b-96f1-ec39fdcaeb1d"
      },
      "outputs": [
        {
          "output_type": "stream",
          "name": "stdout",
          "text": [
            "Looking in indexes: https://pypi.org/simple, https://us-python.pkg.dev/colab-wheels/public/simple/\n",
            "Collecting tensorflowjs\n",
            "  Downloading tensorflowjs-3.18.0-py3-none-any.whl (77 kB)\n",
            "\u001b[K     |████████████████████████████████| 77 kB 6.0 MB/s \n",
            "\u001b[?25hRequirement already satisfied: six<2,>=1.12.0 in /usr/local/lib/python3.7/dist-packages (from tensorflowjs) (1.15.0)\n",
            "Requirement already satisfied: tensorflow<3,>=2.1.0 in /usr/local/lib/python3.7/dist-packages (from tensorflowjs) (2.8.2+zzzcolab20220527125636)\n",
            "Collecting packaging~=20.9\n",
            "  Downloading packaging-20.9-py2.py3-none-any.whl (40 kB)\n",
            "\u001b[K     |████████████████████████████████| 40 kB 5.4 MB/s \n",
            "\u001b[?25hRequirement already satisfied: tensorflow-hub<0.13,>=0.7.0 in /usr/local/lib/python3.7/dist-packages (from tensorflowjs) (0.12.0)\n",
            "Requirement already satisfied: pyparsing>=2.0.2 in /usr/local/lib/python3.7/dist-packages (from packaging~=20.9->tensorflowjs) (3.0.9)\n",
            "Requirement already satisfied: tensorflow-estimator<2.9,>=2.8 in /usr/local/lib/python3.7/dist-packages (from tensorflow<3,>=2.1.0->tensorflowjs) (2.8.0)\n",
            "Requirement already satisfied: libclang>=9.0.1 in /usr/local/lib/python3.7/dist-packages (from tensorflow<3,>=2.1.0->tensorflowjs) (14.0.1)\n",
            "Requirement already satisfied: grpcio<2.0,>=1.24.3 in /usr/local/lib/python3.7/dist-packages (from tensorflow<3,>=2.1.0->tensorflowjs) (1.47.0)\n",
            "Requirement already satisfied: keras-preprocessing>=1.1.1 in /usr/local/lib/python3.7/dist-packages (from tensorflow<3,>=2.1.0->tensorflowjs) (1.1.2)\n",
            "Requirement already satisfied: setuptools in /usr/local/lib/python3.7/dist-packages (from tensorflow<3,>=2.1.0->tensorflowjs) (57.4.0)\n",
            "Requirement already satisfied: typing-extensions>=3.6.6 in /usr/local/lib/python3.7/dist-packages (from tensorflow<3,>=2.1.0->tensorflowjs) (4.1.1)\n",
            "Requirement already satisfied: opt-einsum>=2.3.2 in /usr/local/lib/python3.7/dist-packages (from tensorflow<3,>=2.1.0->tensorflowjs) (3.3.0)\n",
            "Requirement already satisfied: wrapt>=1.11.0 in /usr/local/lib/python3.7/dist-packages (from tensorflow<3,>=2.1.0->tensorflowjs) (1.14.1)\n",
            "Requirement already satisfied: tensorflow-io-gcs-filesystem>=0.23.1 in /usr/local/lib/python3.7/dist-packages (from tensorflow<3,>=2.1.0->tensorflowjs) (0.26.0)\n",
            "Requirement already satisfied: absl-py>=0.4.0 in /usr/local/lib/python3.7/dist-packages (from tensorflow<3,>=2.1.0->tensorflowjs) (1.1.0)\n",
            "Requirement already satisfied: numpy>=1.20 in /usr/local/lib/python3.7/dist-packages (from tensorflow<3,>=2.1.0->tensorflowjs) (1.21.6)\n",
            "Requirement already satisfied: h5py>=2.9.0 in /usr/local/lib/python3.7/dist-packages (from tensorflow<3,>=2.1.0->tensorflowjs) (3.1.0)\n",
            "Requirement already satisfied: termcolor>=1.1.0 in /usr/local/lib/python3.7/dist-packages (from tensorflow<3,>=2.1.0->tensorflowjs) (1.1.0)\n",
            "Requirement already satisfied: google-pasta>=0.1.1 in /usr/local/lib/python3.7/dist-packages (from tensorflow<3,>=2.1.0->tensorflowjs) (0.2.0)\n",
            "Requirement already satisfied: flatbuffers>=1.12 in /usr/local/lib/python3.7/dist-packages (from tensorflow<3,>=2.1.0->tensorflowjs) (2.0)\n",
            "Requirement already satisfied: gast>=0.2.1 in /usr/local/lib/python3.7/dist-packages (from tensorflow<3,>=2.1.0->tensorflowjs) (0.5.3)\n",
            "Requirement already satisfied: tensorboard<2.9,>=2.8 in /usr/local/lib/python3.7/dist-packages (from tensorflow<3,>=2.1.0->tensorflowjs) (2.8.0)\n",
            "Requirement already satisfied: astunparse>=1.6.0 in /usr/local/lib/python3.7/dist-packages (from tensorflow<3,>=2.1.0->tensorflowjs) (1.6.3)\n",
            "Requirement already satisfied: protobuf<3.20,>=3.9.2 in /usr/local/lib/python3.7/dist-packages (from tensorflow<3,>=2.1.0->tensorflowjs) (3.17.3)\n",
            "Requirement already satisfied: keras<2.9,>=2.8.0rc0 in /usr/local/lib/python3.7/dist-packages (from tensorflow<3,>=2.1.0->tensorflowjs) (2.8.0)\n",
            "Requirement already satisfied: wheel<1.0,>=0.23.0 in /usr/local/lib/python3.7/dist-packages (from astunparse>=1.6.0->tensorflow<3,>=2.1.0->tensorflowjs) (0.37.1)\n",
            "Requirement already satisfied: cached-property in /usr/local/lib/python3.7/dist-packages (from h5py>=2.9.0->tensorflow<3,>=2.1.0->tensorflowjs) (1.5.2)\n",
            "Requirement already satisfied: google-auth-oauthlib<0.5,>=0.4.1 in /usr/local/lib/python3.7/dist-packages (from tensorboard<2.9,>=2.8->tensorflow<3,>=2.1.0->tensorflowjs) (0.4.6)\n",
            "Requirement already satisfied: tensorboard-data-server<0.7.0,>=0.6.0 in /usr/local/lib/python3.7/dist-packages (from tensorboard<2.9,>=2.8->tensorflow<3,>=2.1.0->tensorflowjs) (0.6.1)\n",
            "Requirement already satisfied: google-auth<3,>=1.6.3 in /usr/local/lib/python3.7/dist-packages (from tensorboard<2.9,>=2.8->tensorflow<3,>=2.1.0->tensorflowjs) (1.35.0)\n",
            "Requirement already satisfied: requests<3,>=2.21.0 in /usr/local/lib/python3.7/dist-packages (from tensorboard<2.9,>=2.8->tensorflow<3,>=2.1.0->tensorflowjs) (2.23.0)\n",
            "Requirement already satisfied: werkzeug>=0.11.15 in /usr/local/lib/python3.7/dist-packages (from tensorboard<2.9,>=2.8->tensorflow<3,>=2.1.0->tensorflowjs) (1.0.1)\n",
            "Requirement already satisfied: tensorboard-plugin-wit>=1.6.0 in /usr/local/lib/python3.7/dist-packages (from tensorboard<2.9,>=2.8->tensorflow<3,>=2.1.0->tensorflowjs) (1.8.1)\n",
            "Requirement already satisfied: markdown>=2.6.8 in /usr/local/lib/python3.7/dist-packages (from tensorboard<2.9,>=2.8->tensorflow<3,>=2.1.0->tensorflowjs) (3.3.7)\n",
            "Requirement already satisfied: pyasn1-modules>=0.2.1 in /usr/local/lib/python3.7/dist-packages (from google-auth<3,>=1.6.3->tensorboard<2.9,>=2.8->tensorflow<3,>=2.1.0->tensorflowjs) (0.2.8)\n",
            "Requirement already satisfied: rsa<5,>=3.1.4 in /usr/local/lib/python3.7/dist-packages (from google-auth<3,>=1.6.3->tensorboard<2.9,>=2.8->tensorflow<3,>=2.1.0->tensorflowjs) (4.8)\n",
            "Requirement already satisfied: cachetools<5.0,>=2.0.0 in /usr/local/lib/python3.7/dist-packages (from google-auth<3,>=1.6.3->tensorboard<2.9,>=2.8->tensorflow<3,>=2.1.0->tensorflowjs) (4.2.4)\n",
            "Requirement already satisfied: requests-oauthlib>=0.7.0 in /usr/local/lib/python3.7/dist-packages (from google-auth-oauthlib<0.5,>=0.4.1->tensorboard<2.9,>=2.8->tensorflow<3,>=2.1.0->tensorflowjs) (1.3.1)\n",
            "Requirement already satisfied: importlib-metadata>=4.4 in /usr/local/lib/python3.7/dist-packages (from markdown>=2.6.8->tensorboard<2.9,>=2.8->tensorflow<3,>=2.1.0->tensorflowjs) (4.12.0)\n",
            "Requirement already satisfied: zipp>=0.5 in /usr/local/lib/python3.7/dist-packages (from importlib-metadata>=4.4->markdown>=2.6.8->tensorboard<2.9,>=2.8->tensorflow<3,>=2.1.0->tensorflowjs) (3.8.0)\n",
            "Requirement already satisfied: pyasn1<0.5.0,>=0.4.6 in /usr/local/lib/python3.7/dist-packages (from pyasn1-modules>=0.2.1->google-auth<3,>=1.6.3->tensorboard<2.9,>=2.8->tensorflow<3,>=2.1.0->tensorflowjs) (0.4.8)\n",
            "Requirement already satisfied: urllib3!=1.25.0,!=1.25.1,<1.26,>=1.21.1 in /usr/local/lib/python3.7/dist-packages (from requests<3,>=2.21.0->tensorboard<2.9,>=2.8->tensorflow<3,>=2.1.0->tensorflowjs) (1.24.3)\n",
            "Requirement already satisfied: certifi>=2017.4.17 in /usr/local/lib/python3.7/dist-packages (from requests<3,>=2.21.0->tensorboard<2.9,>=2.8->tensorflow<3,>=2.1.0->tensorflowjs) (2022.6.15)\n",
            "Requirement already satisfied: chardet<4,>=3.0.2 in /usr/local/lib/python3.7/dist-packages (from requests<3,>=2.21.0->tensorboard<2.9,>=2.8->tensorflow<3,>=2.1.0->tensorflowjs) (3.0.4)\n",
            "Requirement already satisfied: idna<3,>=2.5 in /usr/local/lib/python3.7/dist-packages (from requests<3,>=2.21.0->tensorboard<2.9,>=2.8->tensorflow<3,>=2.1.0->tensorflowjs) (2.10)\n",
            "Requirement already satisfied: oauthlib>=3.0.0 in /usr/local/lib/python3.7/dist-packages (from requests-oauthlib>=0.7.0->google-auth-oauthlib<0.5,>=0.4.1->tensorboard<2.9,>=2.8->tensorflow<3,>=2.1.0->tensorflowjs) (3.2.0)\n",
            "Installing collected packages: packaging, tensorflowjs\n",
            "  Attempting uninstall: packaging\n",
            "    Found existing installation: packaging 21.3\n",
            "    Uninstalling packaging-21.3:\n",
            "      Successfully uninstalled packaging-21.3\n",
            "\u001b[31mERROR: pip's dependency resolver does not currently take into account all the packages that are installed. This behaviour is the source of the following dependency conflicts.\n",
            "datascience 0.10.6 requires folium==0.2.1, but you have folium 0.8.3 which is incompatible.\u001b[0m\n",
            "Successfully installed packaging-20.9 tensorflowjs-3.18.0\n"
          ]
        },
        {
          "output_type": "display_data",
          "data": {
            "application/vnd.colab-display-data+json": {
              "pip_warning": {
                "packages": [
                  "packaging"
                ]
              }
            }
          },
          "metadata": {}
        }
      ],
      "source": [
        "!pip install tensorflowjs\n",
        "#!pip install tensorflowjs 3.1.0 Python Libraries and Tools for TensorFlow.js"
      ]
    },
    {
      "cell_type": "code",
      "execution_count": null,
      "metadata": {
        "id": "saPfoijzlFH-"
      },
      "outputs": [],
      "source": [
        "!mkdir carpeta_salida"
      ]
    },
    {
      "cell_type": "code",
      "execution_count": null,
      "metadata": {
        "id": "Fwcyu-LplHCn"
      },
      "outputs": [],
      "source": [
        "!tensorflowjs_converter --input_format keras AlzheimerCNN.h5 carpeta_salida"
      ]
    },
    {
      "cell_type": "code",
      "execution_count": null,
      "metadata": {
        "colab": {
          "base_uri": "https://localhost:8080/"
        },
        "id": "ZY2_GyQcJhdZ",
        "outputId": "8044166a-e5db-43a1-94bb-77fb9e49d979"
      },
      "outputs": [
        {
          "output_type": "stream",
          "name": "stdout",
          "text": [
            "updating: content/carpeta_salida/ (stored 0%)\n",
            "  adding: content/carpeta_salida/group1-shard132of174.bin (deflated 7%)\n",
            "  adding: content/carpeta_salida/group1-shard104of174.bin (deflated 7%)\n",
            "  adding: content/carpeta_salida/group1-shard101of174.bin (deflated 7%)\n",
            "  adding: content/carpeta_salida/group1-shard109of174.bin (deflated 7%)\n",
            "  adding: content/carpeta_salida/group1-shard127of174.bin (deflated 7%)\n",
            "  adding: content/carpeta_salida/group1-shard98of174.bin (deflated 7%)\n",
            "  adding: content/carpeta_salida/group1-shard21of174.bin (deflated 7%)\n",
            "  adding: content/carpeta_salida/group1-shard112of174.bin (deflated 7%)\n",
            "  adding: content/carpeta_salida/group1-shard167of174.bin (deflated 6%)\n",
            "  adding: content/carpeta_salida/group1-shard164of174.bin (deflated 6%)\n",
            "  adding: content/carpeta_salida/group1-shard169of174.bin (deflated 7%)\n",
            "  adding: content/carpeta_salida/group1-shard107of174.bin (deflated 7%)\n",
            "  adding: content/carpeta_salida/group1-shard55of174.bin (deflated 7%)\n",
            "  adding: content/carpeta_salida/group1-shard70of174.bin (deflated 7%)\n",
            "  adding: content/carpeta_salida/group1-shard137of174.bin (deflated 7%)\n",
            "  adding: content/carpeta_salida/group1-shard39of174.bin (deflated 7%)\n",
            "  adding: content/carpeta_salida/group1-shard124of174.bin (deflated 7%)\n",
            "  adding: content/carpeta_salida/group1-shard122of174.bin (deflated 7%)\n",
            "  adding: content/carpeta_salida/group1-shard95of174.bin (deflated 7%)\n",
            "  adding: content/carpeta_salida/group1-shard142of174.bin (deflated 7%)\n",
            "  adding: content/carpeta_salida/group1-shard147of174.bin (deflated 7%)\n",
            "  adding: content/carpeta_salida/group1-shard17of174.bin (deflated 7%)\n",
            "  adding: content/carpeta_salida/group1-shard38of174.bin (deflated 7%)\n",
            "  adding: content/carpeta_salida/group1-shard44of174.bin (deflated 7%)\n",
            "  adding: content/carpeta_salida/group1-shard135of174.bin (deflated 7%)\n",
            "  adding: content/carpeta_salida/group1-shard121of174.bin (deflated 7%)\n",
            "  adding: content/carpeta_salida/group1-shard102of174.bin (deflated 7%)\n",
            "  adding: content/carpeta_salida/group1-shard48of174.bin (deflated 7%)\n",
            "  adding: content/carpeta_salida/group1-shard106of174.bin (deflated 7%)\n",
            "  adding: content/carpeta_salida/group1-shard158of174.bin (deflated 7%)\n",
            "  adding: content/carpeta_salida/group1-shard151of174.bin (deflated 7%)\n",
            "  adding: content/carpeta_salida/group1-shard88of174.bin (deflated 7%)\n",
            "  adding: content/carpeta_salida/group1-shard63of174.bin (deflated 7%)\n",
            "  adding: content/carpeta_salida/group1-shard40of174.bin (deflated 7%)\n",
            "  adding: content/carpeta_salida/group1-shard1of174.bin (deflated 10%)\n",
            "  adding: content/carpeta_salida/group1-shard81of174.bin (deflated 7%)\n",
            "  adding: content/carpeta_salida/group1-shard20of174.bin (deflated 7%)\n",
            "  adding: content/carpeta_salida/group1-shard8of174.bin (deflated 7%)\n",
            "  adding: content/carpeta_salida/group1-shard74of174.bin (deflated 7%)\n",
            "  adding: content/carpeta_salida/group1-shard80of174.bin (deflated 7%)\n",
            "  adding: content/carpeta_salida/group1-shard32of174.bin (deflated 7%)\n",
            "  adding: content/carpeta_salida/group1-shard146of174.bin (deflated 7%)\n",
            "  adding: content/carpeta_salida/group1-shard166of174.bin (deflated 6%)\n",
            "  adding: content/carpeta_salida/group1-shard91of174.bin (deflated 7%)\n",
            "  adding: content/carpeta_salida/group1-shard148of174.bin (deflated 7%)\n",
            "  adding: content/carpeta_salida/group1-shard62of174.bin (deflated 7%)\n",
            "  adding: content/carpeta_salida/group1-shard26of174.bin (deflated 7%)\n",
            "  adding: content/carpeta_salida/group1-shard79of174.bin (deflated 7%)\n",
            "  adding: content/carpeta_salida/group1-shard152of174.bin (deflated 7%)\n",
            "  adding: content/carpeta_salida/group1-shard42of174.bin (deflated 7%)\n",
            "  adding: content/carpeta_salida/group1-shard165of174.bin (deflated 6%)\n",
            "  adding: content/carpeta_salida/group1-shard89of174.bin (deflated 7%)\n",
            "  adding: content/carpeta_salida/group1-shard144of174.bin (deflated 7%)\n",
            "  adding: content/carpeta_salida/group1-shard82of174.bin (deflated 7%)\n",
            "  adding: content/carpeta_salida/group1-shard160of174.bin (deflated 7%)\n",
            "  adding: content/carpeta_salida/group1-shard115of174.bin (deflated 7%)\n",
            "  adding: content/carpeta_salida/group1-shard67of174.bin (deflated 7%)\n",
            "  adding: content/carpeta_salida/group1-shard128of174.bin (deflated 7%)\n",
            "  adding: content/carpeta_salida/group1-shard31of174.bin (deflated 7%)\n",
            "  adding: content/carpeta_salida/group1-shard65of174.bin (deflated 7%)\n",
            "  adding: content/carpeta_salida/group1-shard87of174.bin (deflated 7%)\n",
            "  adding: content/carpeta_salida/group1-shard2of174.bin (deflated 7%)\n",
            "  adding: content/carpeta_salida/group1-shard51of174.bin (deflated 7%)\n",
            "  adding: content/carpeta_salida/group1-shard108of174.bin (deflated 7%)\n",
            "  adding: content/carpeta_salida/group1-shard68of174.bin (deflated 7%)\n",
            "  adding: content/carpeta_salida/group1-shard5of174.bin (deflated 7%)\n",
            "  adding: content/carpeta_salida/group1-shard37of174.bin (deflated 7%)\n",
            "  adding: content/carpeta_salida/group1-shard93of174.bin (deflated 7%)\n",
            "  adding: content/carpeta_salida/group1-shard61of174.bin (deflated 7%)\n",
            "  adding: content/carpeta_salida/group1-shard58of174.bin (deflated 7%)\n",
            "  adding: content/carpeta_salida/group1-shard24of174.bin (deflated 7%)\n",
            "  adding: content/carpeta_salida/model.json (deflated 96%)\n",
            "  adding: content/carpeta_salida/group1-shard53of174.bin (deflated 7%)\n",
            "  adding: content/carpeta_salida/group1-shard72of174.bin (deflated 7%)\n",
            "  adding: content/carpeta_salida/group1-shard123of174.bin (deflated 7%)\n",
            "  adding: content/carpeta_salida/group1-shard33of174.bin (deflated 7%)\n",
            "  adding: content/carpeta_salida/group1-shard49of174.bin (deflated 7%)\n",
            "  adding: content/carpeta_salida/group1-shard47of174.bin (deflated 7%)\n",
            "  adding: content/carpeta_salida/group1-shard57of174.bin (deflated 7%)\n",
            "  adding: content/carpeta_salida/group1-shard84of174.bin (deflated 7%)\n",
            "  adding: content/carpeta_salida/group1-shard154of174.bin (deflated 7%)\n",
            "  adding: content/carpeta_salida/group1-shard168of174.bin (deflated 7%)\n",
            "  adding: content/carpeta_salida/group1-shard22of174.bin (deflated 7%)\n",
            "  adding: content/carpeta_salida/group1-shard86of174.bin (deflated 7%)\n",
            "  adding: content/carpeta_salida/group1-shard155of174.bin (deflated 7%)\n",
            "  adding: content/carpeta_salida/group1-shard54of174.bin (deflated 7%)\n",
            "  adding: content/carpeta_salida/group1-shard18of174.bin (deflated 7%)\n",
            "  adding: content/carpeta_salida/group1-shard149of174.bin (deflated 7%)\n",
            "  adding: content/carpeta_salida/group1-shard19of174.bin (deflated 7%)\n",
            "  adding: content/carpeta_salida/group1-shard161of174.bin (deflated 7%)\n",
            "  adding: content/carpeta_salida/group1-shard60of174.bin (deflated 7%)\n",
            "  adding: content/carpeta_salida/group1-shard134of174.bin (deflated 7%)\n",
            "  adding: content/carpeta_salida/group1-shard99of174.bin (deflated 7%)\n",
            "  adding: content/carpeta_salida/group1-shard9of174.bin (deflated 7%)\n",
            "  adding: content/carpeta_salida/group1-shard111of174.bin (deflated 7%)\n",
            "  adding: content/carpeta_salida/group1-shard12of174.bin (deflated 7%)\n",
            "  adding: content/carpeta_salida/group1-shard30of174.bin (deflated 7%)\n",
            "  adding: content/carpeta_salida/group1-shard174of174.bin (deflated 5%)\n",
            "  adding: content/carpeta_salida/group1-shard141of174.bin (deflated 7%)\n",
            "  adding: content/carpeta_salida/group1-shard78of174.bin (deflated 7%)\n",
            "  adding: content/carpeta_salida/group1-shard136of174.bin (deflated 7%)\n",
            "  adding: content/carpeta_salida/group1-shard52of174.bin (deflated 7%)\n",
            "  adding: content/carpeta_salida/group1-shard3of174.bin (deflated 7%)\n",
            "  adding: content/carpeta_salida/group1-shard64of174.bin (deflated 7%)\n",
            "  adding: content/carpeta_salida/group1-shard105of174.bin (deflated 7%)\n",
            "  adding: content/carpeta_salida/group1-shard35of174.bin (deflated 7%)\n",
            "  adding: content/carpeta_salida/group1-shard28of174.bin (deflated 7%)\n",
            "  adding: content/carpeta_salida/group1-shard139of174.bin (deflated 7%)\n",
            "  adding: content/carpeta_salida/group1-shard110of174.bin (deflated 7%)\n",
            "  adding: content/carpeta_salida/group1-shard50of174.bin (deflated 7%)\n",
            "  adding: content/carpeta_salida/group1-shard117of174.bin (deflated 7%)\n",
            "  adding: content/carpeta_salida/group1-shard15of174.bin (deflated 7%)\n",
            "  adding: content/carpeta_salida/group1-shard120of174.bin (deflated 7%)\n",
            "  adding: content/carpeta_salida/group1-shard75of174.bin (deflated 7%)\n",
            "  adding: content/carpeta_salida/group1-shard114of174.bin (deflated 7%)\n",
            "  adding: content/carpeta_salida/group1-shard69of174.bin (deflated 7%)\n",
            "  adding: content/carpeta_salida/group1-shard171of174.bin (deflated 6%)\n",
            "  adding: content/carpeta_salida/group1-shard71of174.bin (deflated 7%)\n",
            "  adding: content/carpeta_salida/group1-shard170of174.bin (deflated 6%)\n",
            "  adding: content/carpeta_salida/group1-shard94of174.bin (deflated 7%)\n",
            "  adding: content/carpeta_salida/group1-shard16of174.bin (deflated 7%)\n",
            "  adding: content/carpeta_salida/group1-shard100of174.bin (deflated 7%)\n",
            "  adding: content/carpeta_salida/group1-shard96of174.bin (deflated 7%)\n",
            "  adding: content/carpeta_salida/group1-shard126of174.bin (deflated 7%)\n",
            "  adding: content/carpeta_salida/group1-shard13of174.bin (deflated 7%)\n",
            "  adding: content/carpeta_salida/group1-shard59of174.bin (deflated 7%)\n",
            "  adding: content/carpeta_salida/group1-shard173of174.bin (deflated 6%)\n",
            "  adding: content/carpeta_salida/group1-shard41of174.bin (deflated 7%)\n",
            "  adding: content/carpeta_salida/group1-shard25of174.bin (deflated 7%)\n",
            "  adding: content/carpeta_salida/group1-shard7of174.bin (deflated 7%)\n",
            "  adding: content/carpeta_salida/group1-shard145of174.bin (deflated 7%)\n",
            "  adding: content/carpeta_salida/group1-shard163of174.bin (deflated 6%)\n",
            "  adding: content/carpeta_salida/group1-shard6of174.bin (deflated 7%)\n",
            "  adding: content/carpeta_salida/group1-shard118of174.bin (deflated 7%)\n",
            "  adding: content/carpeta_salida/group1-shard157of174.bin (deflated 7%)\n",
            "  adding: content/carpeta_salida/group1-shard66of174.bin (deflated 7%)\n",
            "  adding: content/carpeta_salida/group1-shard113of174.bin (deflated 7%)\n",
            "  adding: content/carpeta_salida/group1-shard43of174.bin (deflated 7%)\n",
            "  adding: content/carpeta_salida/group1-shard4of174.bin (deflated 7%)\n",
            "  adding: content/carpeta_salida/group1-shard83of174.bin (deflated 7%)\n",
            "  adding: content/carpeta_salida/group1-shard125of174.bin (deflated 7%)\n",
            "  adding: content/carpeta_salida/group1-shard34of174.bin (deflated 7%)\n",
            "  adding: content/carpeta_salida/group1-shard156of174.bin (deflated 7%)\n",
            "  adding: content/carpeta_salida/group1-shard10of174.bin (deflated 7%)\n",
            "  adding: content/carpeta_salida/group1-shard14of174.bin (deflated 7%)\n",
            "  adding: content/carpeta_salida/group1-shard29of174.bin (deflated 7%)\n",
            "  adding: content/carpeta_salida/group1-shard73of174.bin (deflated 7%)\n",
            "  adding: content/carpeta_salida/group1-shard27of174.bin (deflated 7%)\n",
            "  adding: content/carpeta_salida/group1-shard97of174.bin (deflated 7%)\n",
            "  adding: content/carpeta_salida/group1-shard150of174.bin (deflated 7%)\n",
            "  adding: content/carpeta_salida/group1-shard92of174.bin (deflated 7%)\n",
            "  adding: content/carpeta_salida/group1-shard23of174.bin (deflated 7%)\n",
            "  adding: content/carpeta_salida/group1-shard130of174.bin (deflated 7%)\n",
            "  adding: content/carpeta_salida/group1-shard133of174.bin (deflated 7%)\n",
            "  adding: content/carpeta_salida/group1-shard103of174.bin (deflated 7%)\n",
            "  adding: content/carpeta_salida/group1-shard162of174.bin (deflated 7%)\n",
            "  adding: content/carpeta_salida/group1-shard119of174.bin (deflated 7%)\n",
            "  adding: content/carpeta_salida/group1-shard116of174.bin (deflated 7%)\n",
            "  adding: content/carpeta_salida/group1-shard129of174.bin (deflated 7%)\n",
            "  adding: content/carpeta_salida/group1-shard159of174.bin (deflated 7%)\n",
            "  adding: content/carpeta_salida/group1-shard138of174.bin (deflated 7%)\n",
            "  adding: content/carpeta_salida/group1-shard56of174.bin (deflated 7%)\n",
            "  adding: content/carpeta_salida/group1-shard85of174.bin (deflated 7%)\n",
            "  adding: content/carpeta_salida/group1-shard153of174.bin (deflated 7%)\n",
            "  adding: content/carpeta_salida/group1-shard172of174.bin (deflated 6%)\n",
            "  adding: content/carpeta_salida/group1-shard11of174.bin (deflated 7%)\n",
            "  adding: content/carpeta_salida/group1-shard45of174.bin (deflated 7%)\n",
            "  adding: content/carpeta_salida/group1-shard46of174.bin (deflated 7%)\n",
            "  adding: content/carpeta_salida/group1-shard140of174.bin (deflated 7%)\n",
            "  adding: content/carpeta_salida/group1-shard77of174.bin (deflated 7%)\n",
            "  adding: content/carpeta_salida/group1-shard76of174.bin (deflated 7%)\n",
            "  adding: content/carpeta_salida/group1-shard90of174.bin (deflated 7%)\n",
            "  adding: content/carpeta_salida/group1-shard143of174.bin (deflated 7%)\n",
            "  adding: content/carpeta_salida/group1-shard36of174.bin (deflated 7%)\n",
            "  adding: content/carpeta_salida/group1-shard131of174.bin (deflated 7%)\n"
          ]
        }
      ],
      "source": [
        "!zip -r ModelAlzheimer_CNN.zip /content/carpeta_salida/"
      ]
    },
    {
      "cell_type": "code",
      "source": [
        "#Load mode\n",
        "model = keras.models.load_model('/content/drive/MyDrive/Paper_V2/AlzheimerCNN.h5')"
      ],
      "metadata": {
        "id": "XeKbYvmRY18v"
      },
      "execution_count": null,
      "outputs": []
    },
    {
      "cell_type": "code",
      "source": [
        "#Funtion that take a image url and makes a prediction\n",
        "\n",
        "def categorizar(url):\n",
        "  respuesta = requests.get(url)\n",
        "  img = Image.open(BytesIO(respuesta.content))\n",
        "  img = np.array(img).astype(float)/255\n",
        "\n",
        "  img = cv2.resize(img, (224,224))\n",
        "  prediccion = model.predict(img.reshape(-1, 224, 224, 3))\n",
        "  return np.argmax(prediccion[0], axis=-1)"
      ],
      "metadata": {
        "id": "ThJSMAWSYmb1"
      },
      "execution_count": null,
      "outputs": []
    },
    {
      "cell_type": "markdown",
      "source": [
        "<img src = 'https://img.medscapestatic.com/pi/meds/ckb/37/14937tn.jpg'> \n"
      ],
      "metadata": {
        "id": "4j_gQTMlaTZ0"
      }
    },
    {
      "cell_type": "code",
      "source": [
        "#0 = Demencia Leve, 1 = Demencia Moderada, 2 = No demente, 3 = Demencia muy leve\n",
        "url = 'https://img.medscapestatic.com/pi/meds/ckb/37/14937tn.jpg' \n",
        "prediccion = categorizar (url)\n",
        "print(prediccion)"
      ],
      "metadata": {
        "colab": {
          "base_uri": "https://localhost:8080/"
        },
        "id": "8WJV7QidY-9W",
        "outputId": "7c3c891c-cdb1-4d9e-ee1f-bc3af165bb48"
      },
      "execution_count": null,
      "outputs": [
        {
          "output_type": "stream",
          "name": "stdout",
          "text": [
            "0\n"
          ]
        }
      ]
    },
    {
      "cell_type": "markdown",
      "source": [
        "<img src = 'https://media.istockphoto.com/photos/brain-mri-scan-of-healthy-male-high-resolution-picture-id1172987259?k=20&m=1172987259&s=170667a&w=0&h=-36G1-d9LapKcVbn5clxbDsq6C0dxTLp6DiAEDpaekY='>"
      ],
      "metadata": {
        "id": "YUSxB9S2as0u"
      }
    },
    {
      "cell_type": "code",
      "source": [
        "#0 = Demencia Leve, 1 = Demencia Moderada, 2 = No demente, 3 = Demencia muy leve\n",
        "url = 'https://media.istockphoto.com/photos/brain-mri-scan-of-healthy-male-high-resolution-picture-id1172987259?k=20&m=1172987259&s=170667a&w=0&h=-36G1-d9LapKcVbn5clxbDsq6C0dxTLp6DiAEDpaekY=' \n",
        "prediccion = categorizar (url)\n",
        "print(prediccion)"
      ],
      "metadata": {
        "colab": {
          "base_uri": "https://localhost:8080/"
        },
        "id": "o8li_W5gaWBu",
        "outputId": "2eefadd6-cd7f-4411-8863-6964c9b8c37e"
      },
      "execution_count": null,
      "outputs": [
        {
          "output_type": "stream",
          "name": "stdout",
          "text": [
            "2\n"
          ]
        }
      ]
    },
    {
      "cell_type": "markdown",
      "source": [
        "<img src = 'https://www.cedars-sinai.org/content/dam/cedars-sinai/programs-and-services/imaging-center/for-patients/exams-by-procedure/ct-brain-contrast.jpg'>"
      ],
      "metadata": {
        "id": "yBPRcwuIIWQ-"
      }
    },
    {
      "cell_type": "code",
      "source": [
        "#0 = Demencia Leve, 1 = Demencia Moderada, 2 = No demente, 3 = Demencia muy leve\n",
        "url = 'https://www.cedars-sinai.org/content/dam/cedars-sinai/programs-and-services/imaging-center/for-patients/exams-by-procedure/ct-brain-contrast.jpg' \n",
        "prediccion = categorizar (url)\n",
        "print(prediccion)"
      ],
      "metadata": {
        "colab": {
          "base_uri": "https://localhost:8080/"
        },
        "id": "IX5_GS7hHQxQ",
        "outputId": "4f480024-1d72-4fef-a0bd-23cb7891c43c"
      },
      "execution_count": null,
      "outputs": [
        {
          "output_type": "stream",
          "name": "stdout",
          "text": [
            "2\n"
          ]
        }
      ]
    },
    {
      "cell_type": "code",
      "source": [
        "def prepare(filepath):\n",
        "    IMAGE_CHANNEL = 3\n",
        "    IMG_SIZE = 224\n",
        "    img_array = cv2.imread(filepath)\n",
        "    new_array = cv2.resize(img_array, (IMG_SIZE, IMG_SIZE))\n",
        "    return new_array.reshape(-1, IMG_SIZE, IMG_SIZE, IMAGE_CHANNEL)"
      ],
      "metadata": {
        "id": "tlneqbxFT4Ej"
      },
      "execution_count": null,
      "outputs": []
    },
    {
      "cell_type": "code",
      "source": [
        "val =  model.predict(prepare(\"/content/drive/MyDrive/Paper_V2/Alzheimer/test/ModerateDemented/31 (2).jpg\"))\n",
        "val2 = np.argmax(val[0], axis=-1)\n",
        "\n",
        "print(val2)"
      ],
      "metadata": {
        "colab": {
          "base_uri": "https://localhost:8080/"
        },
        "id": "hZVmg-5ZOErN",
        "outputId": "fe69fbf9-5e03-4bce-8243-7153b58d491d"
      },
      "execution_count": null,
      "outputs": [
        {
          "output_type": "stream",
          "name": "stdout",
          "text": [
            "0\n"
          ]
        }
      ]
    }
  ],
  "metadata": {
    "accelerator": "GPU",
    "colab": {
      "collapsed_sections": [],
      "name": "Modelo CNN para la detección de Alzheimer con optimizador Adam.ipynb",
      "provenance": []
    },
    "gpuClass": "standard",
    "kernelspec": {
      "display_name": "Python 3",
      "name": "python3"
    },
    "language_info": {
      "name": "python"
    }
  },
  "nbformat": 4,
  "nbformat_minor": 0
}